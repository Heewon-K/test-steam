{
 "cells": [
  {
   "cell_type": "code",
   "execution_count": 7,
   "metadata": {},
   "outputs": [
    {
     "data": {
      "text/plain": [
       "True"
      ]
     },
     "execution_count": 7,
     "metadata": {},
     "output_type": "execute_result"
    }
   ],
   "source": [
    "from dotenv import load_dotenv\n",
    "load_dotenv('.env')"
   ]
  },
  {
   "cell_type": "code",
   "execution_count": 11,
   "metadata": {},
   "outputs": [
    {
     "data": {
      "text/plain": [
       "{'player': {'steamid': '76561198995017863',\n",
       "  'communityvisibilitystate': 3,\n",
       "  'profilestate': 1,\n",
       "  'personaname': 'The12thChairman',\n",
       "  'profileurl': 'https://steamcommunity.com/id/the12thchairman/',\n",
       "  'avatar': 'https://avatars.steamstatic.com/427ef7d5f8ad7b21678f69bc8afc95786cf38fe6.jpg',\n",
       "  'avatarmedium': 'https://avatars.steamstatic.com/427ef7d5f8ad7b21678f69bc8afc95786cf38fe6_medium.jpg',\n",
       "  'avatarfull': 'https://avatars.steamstatic.com/427ef7d5f8ad7b21678f69bc8afc95786cf38fe6_full.jpg',\n",
       "  'avatarhash': '427ef7d5f8ad7b21678f69bc8afc95786cf38fe6',\n",
       "  'personastate': 0,\n",
       "  'primaryclanid': '103582791429521408',\n",
       "  'timecreated': 1570311509,\n",
       "  'personastateflags': 0,\n",
       "  'loccountrycode': 'US'}}"
      ]
     },
     "execution_count": 11,
     "metadata": {},
     "output_type": "execute_result"
    }
   ],
   "source": [
    "from steam import Steam\n",
    "import os\n",
    "\n",
    "KEY = os.getenv('STEAM_API_KEY')\n",
    "steam = Steam(KEY)\n",
    "\n",
    "steam.users.search_user('the12thchairman')"
   ]
  },
  {
   "cell_type": "code",
   "execution_count": 12,
   "metadata": {},
   "outputs": [
    {
     "data": {
      "text/plain": [
       "{'player': {'steamid': '76561198218462649',\n",
       "  'communityvisibilitystate': 3,\n",
       "  'profilestate': 1,\n",
       "  'personaname': 'Hee1',\n",
       "  'profileurl': 'https://steamcommunity.com/profiles/76561198218462649/',\n",
       "  'avatar': 'https://avatars.steamstatic.com/fc13bb1f59388dc6070a14f9224b6f697e08a4d3.jpg',\n",
       "  'avatarmedium': 'https://avatars.steamstatic.com/fc13bb1f59388dc6070a14f9224b6f697e08a4d3_medium.jpg',\n",
       "  'avatarfull': 'https://avatars.steamstatic.com/fc13bb1f59388dc6070a14f9224b6f697e08a4d3_full.jpg',\n",
       "  'avatarhash': 'fc13bb1f59388dc6070a14f9224b6f697e08a4d3',\n",
       "  'lastlogoff': 1681802618,\n",
       "  'personastate': 0,\n",
       "  'primaryclanid': '103582791429521408',\n",
       "  'timecreated': 1442406184,\n",
       "  'personastateflags': 0}}"
      ]
     },
     "execution_count": 12,
     "metadata": {},
     "output_type": "execute_result"
    }
   ],
   "source": [
    "# user details by steam id\n",
    "steam.users.get_user_details('76561198218462649')"
   ]
  },
  {
   "cell_type": "code",
   "execution_count": null,
   "metadata": {},
   "outputs": [],
   "source": [
    "# 사용자 정보를 받을 수 있는 명령어 예시\n",
    "\n",
    "# getting Friends List : steam.users.get_user_friends_list('steamid')\n",
    "# steam.users.get_user_recently_played_games('steamid')\n",
    "# steam.users.get_owned_games('steamid')\n",
    "# steam.users.get_user_steam_level('steamid')\n",
    "# steam.users.get_account_public_info('steamid')\n",
    "\n",
    "# 게임 정보를 가지고 올 수 있는 명령어와 그를 통해 받을 수 있는 정보\n",
    "\n",
    "# steam.apps.search_games(\"game_name\") : 게임 이름에 부분만 넣어도 search engine같이 그 부분을 포함한 게임들의 리스트가 출력된다\n",
    "# steam.apps.get_app_details(game_id)\n",
    "#       : success, data : {type, name, steam_appid, required_age, is_free, controller_supoort, dlc, \n",
    "#         detiled_description, about_the_game, short_description, supported_languages, header_image, \n",
    "#         website, pc_requirements(minimum, recommended), mac_requirements(minimum, recommended), \n",
    "#         linux_requirements(minimum, recommended), developers, publishers, \n",
    "#         price_overview(currency, initial, final, discount_percent, initial_formatted, final_formatted)\n",
    "#         packages, packages_groups(name, title,...),\n",
    "#         platforms (windows, mac, linux: true/false로 나옴),\n",
    "#         matacritics(score, url), categories[{id, description},{id,category},...],\n",
    "#         genres[{id, description}, {id, description}, ...],\n",
    "#         recommendations, release_date, support_info, ...}"
   ]
  }
 ],
 "metadata": {
  "kernelspec": {
   "display_name": "base",
   "language": "python",
   "name": "python3"
  },
  "language_info": {
   "codemirror_mode": {
    "name": "ipython",
    "version": 3
   },
   "file_extension": ".py",
   "mimetype": "text/x-python",
   "name": "python",
   "nbconvert_exporter": "python",
   "pygments_lexer": "ipython3",
   "version": "3.10.9"
  },
  "orig_nbformat": 4
 },
 "nbformat": 4,
 "nbformat_minor": 2
}
